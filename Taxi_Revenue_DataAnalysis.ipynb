{
 "cells": [
  {
   "cell_type": "markdown",
   "id": "3a1c3187",
   "metadata": {},
   "source": [
    "# Statistical Data Analysis - Maximizing Revenue for Taxi Drivers analyzing Customer Payment Type"
   ]
  },
  {
   "cell_type": "markdown",
   "id": "765b5092",
   "metadata": {},
   "source": [
    "# Problem Statement\n"
   ]
  },
  {
   "cell_type": "markdown",
   "id": "704e2461",
   "metadata": {},
   "source": [
    "**In the fast-paced taxi-booking service, generating the most revenue is crucial forf long-term and driver happiness. The goal of this analysis is to use data-driven statistical analysis to maximize the revenue generated for taxi-drivers. The research aims to determine if the payment method impacts fare pricing relating the fare amount and payment type.**\n",
    "\n",
    "\n",
    "The data is obtained from Data World for NYC Taxi. Since the data is too large, it can be obtained from the site:\n",
    "https://data.world/vizwiz/nyc-taxi-jan-2020/workspace/file?filename=yellow_tripdata_2020-01.csv\n",
    "\n",
    "**Objective**\n",
    "\n",
    "The main goal is to run A/B Testing examining the relationship between total fare and payment method. The project applied python hypothesis testing and descriptive statistics to extract the insights from data to generate more income. To sum up, we identify if there is a huge gap between cash payment and card payment.\n",
    "\n",
    "\n",
    "**Reasearch Question**\n",
    "\n",
    "Is there a relationship between fare amount and payment type? Is it possible to nudge the customers towards the payment methods generating higher revenue without negatively impacting the service and customer experience?\n",
    "\n",
    "\n",
    "\n",
    "\n"
   ]
  },
  {
   "cell_type": "markdown",
   "id": "c20c538a",
   "metadata": {},
   "source": [
    "**Import Libraries**"
   ]
  },
  {
   "cell_type": "code",
   "execution_count": 3,
   "id": "bbcdfd5b",
   "metadata": {},
   "outputs": [],
   "source": [
    "import pandas as pd\n",
    "import numpy as np\n",
    "import scipy.stats as stats\n",
    "import statistics as st\n",
    "import matplotlib.pyplot as plt\n",
    "import seaborn as sns\n",
    "\n",
    "import warnings\n",
    "warnings.filterwarnings('ignore')"
   ]
  },
  {
   "cell_type": "markdown",
   "id": "4637b7b6",
   "metadata": {},
   "source": [
    "**Load Dataset**"
   ]
  },
  {
   "cell_type": "code",
   "execution_count": 8,
   "id": "66f798e7",
   "metadata": {},
   "outputs": [
    {
     "data": {
      "text/html": [
       "<div>\n",
       "<style scoped>\n",
       "    .dataframe tbody tr th:only-of-type {\n",
       "        vertical-align: middle;\n",
       "    }\n",
       "\n",
       "    .dataframe tbody tr th {\n",
       "        vertical-align: top;\n",
       "    }\n",
       "\n",
       "    .dataframe thead th {\n",
       "        text-align: right;\n",
       "    }\n",
       "</style>\n",
       "<table border=\"1\" class=\"dataframe\">\n",
       "  <thead>\n",
       "    <tr style=\"text-align: right;\">\n",
       "      <th></th>\n",
       "      <th>VendorID</th>\n",
       "      <th>tpep_pickup_datetime</th>\n",
       "      <th>tpep_dropoff_datetime</th>\n",
       "      <th>passenger_count</th>\n",
       "      <th>trip_distance</th>\n",
       "      <th>RatecodeID</th>\n",
       "      <th>store_and_fwd_flag</th>\n",
       "      <th>PULocationID</th>\n",
       "      <th>DOLocationID</th>\n",
       "      <th>payment_type</th>\n",
       "      <th>fare_amount</th>\n",
       "      <th>extra</th>\n",
       "      <th>mta_tax</th>\n",
       "      <th>tip_amount</th>\n",
       "      <th>tolls_amount</th>\n",
       "      <th>improvement_surcharge</th>\n",
       "      <th>total_amount</th>\n",
       "      <th>congestion_surcharge</th>\n",
       "    </tr>\n",
       "  </thead>\n",
       "  <tbody>\n",
       "    <tr>\n",
       "      <th>0</th>\n",
       "      <td>1.0</td>\n",
       "      <td>2020-01-01 00:28:15</td>\n",
       "      <td>2020-01-01 00:33:03</td>\n",
       "      <td>1.0</td>\n",
       "      <td>1.2</td>\n",
       "      <td>1.0</td>\n",
       "      <td>N</td>\n",
       "      <td>238</td>\n",
       "      <td>239</td>\n",
       "      <td>1.0</td>\n",
       "      <td>6.0</td>\n",
       "      <td>3.0</td>\n",
       "      <td>0.5</td>\n",
       "      <td>1.47</td>\n",
       "      <td>0.0</td>\n",
       "      <td>0.3</td>\n",
       "      <td>11.27</td>\n",
       "      <td>2.5</td>\n",
       "    </tr>\n",
       "    <tr>\n",
       "      <th>1</th>\n",
       "      <td>1.0</td>\n",
       "      <td>2020-01-01 00:35:39</td>\n",
       "      <td>2020-01-01 00:43:04</td>\n",
       "      <td>1.0</td>\n",
       "      <td>1.2</td>\n",
       "      <td>1.0</td>\n",
       "      <td>N</td>\n",
       "      <td>239</td>\n",
       "      <td>238</td>\n",
       "      <td>1.0</td>\n",
       "      <td>7.0</td>\n",
       "      <td>3.0</td>\n",
       "      <td>0.5</td>\n",
       "      <td>1.50</td>\n",
       "      <td>0.0</td>\n",
       "      <td>0.3</td>\n",
       "      <td>12.30</td>\n",
       "      <td>2.5</td>\n",
       "    </tr>\n",
       "    <tr>\n",
       "      <th>2</th>\n",
       "      <td>1.0</td>\n",
       "      <td>2020-01-01 00:47:41</td>\n",
       "      <td>2020-01-01 00:53:52</td>\n",
       "      <td>1.0</td>\n",
       "      <td>0.6</td>\n",
       "      <td>1.0</td>\n",
       "      <td>N</td>\n",
       "      <td>238</td>\n",
       "      <td>238</td>\n",
       "      <td>1.0</td>\n",
       "      <td>6.0</td>\n",
       "      <td>3.0</td>\n",
       "      <td>0.5</td>\n",
       "      <td>1.00</td>\n",
       "      <td>0.0</td>\n",
       "      <td>0.3</td>\n",
       "      <td>10.80</td>\n",
       "      <td>2.5</td>\n",
       "    </tr>\n",
       "    <tr>\n",
       "      <th>3</th>\n",
       "      <td>1.0</td>\n",
       "      <td>2020-01-01 00:55:23</td>\n",
       "      <td>2020-01-01 01:00:14</td>\n",
       "      <td>1.0</td>\n",
       "      <td>0.8</td>\n",
       "      <td>1.0</td>\n",
       "      <td>N</td>\n",
       "      <td>238</td>\n",
       "      <td>151</td>\n",
       "      <td>1.0</td>\n",
       "      <td>5.5</td>\n",
       "      <td>0.5</td>\n",
       "      <td>0.5</td>\n",
       "      <td>1.36</td>\n",
       "      <td>0.0</td>\n",
       "      <td>0.3</td>\n",
       "      <td>8.16</td>\n",
       "      <td>0.0</td>\n",
       "    </tr>\n",
       "    <tr>\n",
       "      <th>4</th>\n",
       "      <td>2.0</td>\n",
       "      <td>2020-01-01 00:01:58</td>\n",
       "      <td>2020-01-01 00:04:16</td>\n",
       "      <td>1.0</td>\n",
       "      <td>0.0</td>\n",
       "      <td>1.0</td>\n",
       "      <td>N</td>\n",
       "      <td>193</td>\n",
       "      <td>193</td>\n",
       "      <td>2.0</td>\n",
       "      <td>3.5</td>\n",
       "      <td>0.5</td>\n",
       "      <td>0.5</td>\n",
       "      <td>0.00</td>\n",
       "      <td>0.0</td>\n",
       "      <td>0.3</td>\n",
       "      <td>4.80</td>\n",
       "      <td>0.0</td>\n",
       "    </tr>\n",
       "  </tbody>\n",
       "</table>\n",
       "</div>"
      ],
      "text/plain": [
       "   VendorID tpep_pickup_datetime tpep_dropoff_datetime  passenger_count  \\\n",
       "0       1.0  2020-01-01 00:28:15   2020-01-01 00:33:03              1.0   \n",
       "1       1.0  2020-01-01 00:35:39   2020-01-01 00:43:04              1.0   \n",
       "2       1.0  2020-01-01 00:47:41   2020-01-01 00:53:52              1.0   \n",
       "3       1.0  2020-01-01 00:55:23   2020-01-01 01:00:14              1.0   \n",
       "4       2.0  2020-01-01 00:01:58   2020-01-01 00:04:16              1.0   \n",
       "\n",
       "   trip_distance  RatecodeID store_and_fwd_flag  PULocationID  DOLocationID  \\\n",
       "0            1.2         1.0                  N           238           239   \n",
       "1            1.2         1.0                  N           239           238   \n",
       "2            0.6         1.0                  N           238           238   \n",
       "3            0.8         1.0                  N           238           151   \n",
       "4            0.0         1.0                  N           193           193   \n",
       "\n",
       "   payment_type  fare_amount  extra  mta_tax  tip_amount  tolls_amount  \\\n",
       "0           1.0          6.0    3.0      0.5        1.47           0.0   \n",
       "1           1.0          7.0    3.0      0.5        1.50           0.0   \n",
       "2           1.0          6.0    3.0      0.5        1.00           0.0   \n",
       "3           1.0          5.5    0.5      0.5        1.36           0.0   \n",
       "4           2.0          3.5    0.5      0.5        0.00           0.0   \n",
       "\n",
       "   improvement_surcharge  total_amount  congestion_surcharge  \n",
       "0                    0.3         11.27                   2.5  \n",
       "1                    0.3         12.30                   2.5  \n",
       "2                    0.3         10.80                   2.5  \n",
       "3                    0.3          8.16                   0.0  \n",
       "4                    0.3          4.80                   0.0  "
      ]
     },
     "execution_count": 8,
     "metadata": {},
     "output_type": "execute_result"
    }
   ],
   "source": [
    "data = pd.read_csv('C:/Users/shwet/OneDrive/Documents/pandas/StatiticalAnalysis/yellow_tripdata_2020.csv')\n",
    "data.head()"
   ]
  },
  {
   "cell_type": "markdown",
   "id": "d29d403a",
   "metadata": {},
   "source": [
    "**Exploratory Data Analysis**"
   ]
  },
  {
   "cell_type": "code",
   "execution_count": 10,
   "id": "bc13de8e",
   "metadata": {},
   "outputs": [
    {
     "data": {
      "text/plain": [
       "(6405008, 18)"
      ]
     },
     "execution_count": 10,
     "metadata": {},
     "output_type": "execute_result"
    }
   ],
   "source": [
    "data.shape"
   ]
  },
  {
   "cell_type": "markdown",
   "id": "b28caa99",
   "metadata": {},
   "source": [
    ">Lets determine the factors affecting fare price - distance, duration and rate. The data does not have duration so we calculate duration. We can apply Regression Analysis, Time Series or Statistical calculation. Here, we use calculations."
   ]
  },
  {
   "cell_type": "code",
   "execution_count": 11,
   "id": "16ed2b49",
   "metadata": {},
   "outputs": [
    {
     "name": "stdout",
     "output_type": "stream",
     "text": [
      "<class 'pandas.core.frame.DataFrame'>\n",
      "RangeIndex: 6405008 entries, 0 to 6405007\n",
      "Data columns (total 18 columns):\n",
      " #   Column                 Dtype  \n",
      "---  ------                 -----  \n",
      " 0   VendorID               float64\n",
      " 1   tpep_pickup_datetime   object \n",
      " 2   tpep_dropoff_datetime  object \n",
      " 3   passenger_count        float64\n",
      " 4   trip_distance          float64\n",
      " 5   RatecodeID             float64\n",
      " 6   store_and_fwd_flag     object \n",
      " 7   PULocationID           int64  \n",
      " 8   DOLocationID           int64  \n",
      " 9   payment_type           float64\n",
      " 10  fare_amount            float64\n",
      " 11  extra                  float64\n",
      " 12  mta_tax                float64\n",
      " 13  tip_amount             float64\n",
      " 14  tolls_amount           float64\n",
      " 15  improvement_surcharge  float64\n",
      " 16  total_amount           float64\n",
      " 17  congestion_surcharge   float64\n",
      "dtypes: float64(13), int64(2), object(3)\n",
      "memory usage: 879.6+ MB\n"
     ]
    }
   ],
   "source": [
    "data.info()"
   ]
  },
  {
   "cell_type": "code",
   "execution_count": 12,
   "id": "c8824ff3",
   "metadata": {},
   "outputs": [],
   "source": [
    "data['tpep_pickup_datetime'] = pd.to_datetime (data['tpep_pickup_datetime'])  # Converting object data type to datetime\n",
    "data['tpep_dropoff_datetime'] = pd.to_datetime (data['tpep_dropoff_datetime'])"
   ]
  },
  {
   "cell_type": "code",
   "execution_count": 13,
   "id": "c3b10c10",
   "metadata": {},
   "outputs": [
    {
     "data": {
      "text/html": [
       "<div>\n",
       "<style scoped>\n",
       "    .dataframe tbody tr th:only-of-type {\n",
       "        vertical-align: middle;\n",
       "    }\n",
       "\n",
       "    .dataframe tbody tr th {\n",
       "        vertical-align: top;\n",
       "    }\n",
       "\n",
       "    .dataframe thead th {\n",
       "        text-align: right;\n",
       "    }\n",
       "</style>\n",
       "<table border=\"1\" class=\"dataframe\">\n",
       "  <thead>\n",
       "    <tr style=\"text-align: right;\">\n",
       "      <th></th>\n",
       "      <th>VendorID</th>\n",
       "      <th>tpep_pickup_datetime</th>\n",
       "      <th>tpep_dropoff_datetime</th>\n",
       "      <th>passenger_count</th>\n",
       "      <th>trip_distance</th>\n",
       "      <th>RatecodeID</th>\n",
       "      <th>store_and_fwd_flag</th>\n",
       "      <th>PULocationID</th>\n",
       "      <th>DOLocationID</th>\n",
       "      <th>payment_type</th>\n",
       "      <th>fare_amount</th>\n",
       "      <th>extra</th>\n",
       "      <th>mta_tax</th>\n",
       "      <th>tip_amount</th>\n",
       "      <th>tolls_amount</th>\n",
       "      <th>improvement_surcharge</th>\n",
       "      <th>total_amount</th>\n",
       "      <th>congestion_surcharge</th>\n",
       "      <th>duration</th>\n",
       "    </tr>\n",
       "  </thead>\n",
       "  <tbody>\n",
       "    <tr>\n",
       "      <th>0</th>\n",
       "      <td>1.0</td>\n",
       "      <td>2020-01-01 00:28:15</td>\n",
       "      <td>2020-01-01 00:33:03</td>\n",
       "      <td>1.0</td>\n",
       "      <td>1.2</td>\n",
       "      <td>1.0</td>\n",
       "      <td>N</td>\n",
       "      <td>238</td>\n",
       "      <td>239</td>\n",
       "      <td>1.0</td>\n",
       "      <td>6.0</td>\n",
       "      <td>3.0</td>\n",
       "      <td>0.5</td>\n",
       "      <td>1.47</td>\n",
       "      <td>0.0</td>\n",
       "      <td>0.3</td>\n",
       "      <td>11.27</td>\n",
       "      <td>2.5</td>\n",
       "      <td>0 days 00:04:48</td>\n",
       "    </tr>\n",
       "    <tr>\n",
       "      <th>1</th>\n",
       "      <td>1.0</td>\n",
       "      <td>2020-01-01 00:35:39</td>\n",
       "      <td>2020-01-01 00:43:04</td>\n",
       "      <td>1.0</td>\n",
       "      <td>1.2</td>\n",
       "      <td>1.0</td>\n",
       "      <td>N</td>\n",
       "      <td>239</td>\n",
       "      <td>238</td>\n",
       "      <td>1.0</td>\n",
       "      <td>7.0</td>\n",
       "      <td>3.0</td>\n",
       "      <td>0.5</td>\n",
       "      <td>1.50</td>\n",
       "      <td>0.0</td>\n",
       "      <td>0.3</td>\n",
       "      <td>12.30</td>\n",
       "      <td>2.5</td>\n",
       "      <td>0 days 00:07:25</td>\n",
       "    </tr>\n",
       "    <tr>\n",
       "      <th>2</th>\n",
       "      <td>1.0</td>\n",
       "      <td>2020-01-01 00:47:41</td>\n",
       "      <td>2020-01-01 00:53:52</td>\n",
       "      <td>1.0</td>\n",
       "      <td>0.6</td>\n",
       "      <td>1.0</td>\n",
       "      <td>N</td>\n",
       "      <td>238</td>\n",
       "      <td>238</td>\n",
       "      <td>1.0</td>\n",
       "      <td>6.0</td>\n",
       "      <td>3.0</td>\n",
       "      <td>0.5</td>\n",
       "      <td>1.00</td>\n",
       "      <td>0.0</td>\n",
       "      <td>0.3</td>\n",
       "      <td>10.80</td>\n",
       "      <td>2.5</td>\n",
       "      <td>0 days 00:06:11</td>\n",
       "    </tr>\n",
       "    <tr>\n",
       "      <th>3</th>\n",
       "      <td>1.0</td>\n",
       "      <td>2020-01-01 00:55:23</td>\n",
       "      <td>2020-01-01 01:00:14</td>\n",
       "      <td>1.0</td>\n",
       "      <td>0.8</td>\n",
       "      <td>1.0</td>\n",
       "      <td>N</td>\n",
       "      <td>238</td>\n",
       "      <td>151</td>\n",
       "      <td>1.0</td>\n",
       "      <td>5.5</td>\n",
       "      <td>0.5</td>\n",
       "      <td>0.5</td>\n",
       "      <td>1.36</td>\n",
       "      <td>0.0</td>\n",
       "      <td>0.3</td>\n",
       "      <td>8.16</td>\n",
       "      <td>0.0</td>\n",
       "      <td>0 days 00:04:51</td>\n",
       "    </tr>\n",
       "    <tr>\n",
       "      <th>4</th>\n",
       "      <td>2.0</td>\n",
       "      <td>2020-01-01 00:01:58</td>\n",
       "      <td>2020-01-01 00:04:16</td>\n",
       "      <td>1.0</td>\n",
       "      <td>0.0</td>\n",
       "      <td>1.0</td>\n",
       "      <td>N</td>\n",
       "      <td>193</td>\n",
       "      <td>193</td>\n",
       "      <td>2.0</td>\n",
       "      <td>3.5</td>\n",
       "      <td>0.5</td>\n",
       "      <td>0.5</td>\n",
       "      <td>0.00</td>\n",
       "      <td>0.0</td>\n",
       "      <td>0.3</td>\n",
       "      <td>4.80</td>\n",
       "      <td>0.0</td>\n",
       "      <td>0 days 00:02:18</td>\n",
       "    </tr>\n",
       "  </tbody>\n",
       "</table>\n",
       "</div>"
      ],
      "text/plain": [
       "   VendorID tpep_pickup_datetime tpep_dropoff_datetime  passenger_count  \\\n",
       "0       1.0  2020-01-01 00:28:15   2020-01-01 00:33:03              1.0   \n",
       "1       1.0  2020-01-01 00:35:39   2020-01-01 00:43:04              1.0   \n",
       "2       1.0  2020-01-01 00:47:41   2020-01-01 00:53:52              1.0   \n",
       "3       1.0  2020-01-01 00:55:23   2020-01-01 01:00:14              1.0   \n",
       "4       2.0  2020-01-01 00:01:58   2020-01-01 00:04:16              1.0   \n",
       "\n",
       "   trip_distance  RatecodeID store_and_fwd_flag  PULocationID  DOLocationID  \\\n",
       "0            1.2         1.0                  N           238           239   \n",
       "1            1.2         1.0                  N           239           238   \n",
       "2            0.6         1.0                  N           238           238   \n",
       "3            0.8         1.0                  N           238           151   \n",
       "4            0.0         1.0                  N           193           193   \n",
       "\n",
       "   payment_type  fare_amount  extra  mta_tax  tip_amount  tolls_amount  \\\n",
       "0           1.0          6.0    3.0      0.5        1.47           0.0   \n",
       "1           1.0          7.0    3.0      0.5        1.50           0.0   \n",
       "2           1.0          6.0    3.0      0.5        1.00           0.0   \n",
       "3           1.0          5.5    0.5      0.5        1.36           0.0   \n",
       "4           2.0          3.5    0.5      0.5        0.00           0.0   \n",
       "\n",
       "   improvement_surcharge  total_amount  congestion_surcharge        duration  \n",
       "0                    0.3         11.27                   2.5 0 days 00:04:48  \n",
       "1                    0.3         12.30                   2.5 0 days 00:07:25  \n",
       "2                    0.3         10.80                   2.5 0 days 00:06:11  \n",
       "3                    0.3          8.16                   0.0 0 days 00:04:51  \n",
       "4                    0.3          4.80                   0.0 0 days 00:02:18  "
      ]
     },
     "execution_count": 13,
     "metadata": {},
     "output_type": "execute_result"
    }
   ],
   "source": [
    "# Now duration is calculated.\n",
    "data ['duration'] = data ['tpep_dropoff_datetime'] - data ['tpep_pickup_datetime']\n",
    "data.head()"
   ]
  },
  {
   "cell_type": "code",
   "execution_count": 14,
   "id": "4af17652",
   "metadata": {},
   "outputs": [
    {
     "data": {
      "text/html": [
       "<div>\n",
       "<style scoped>\n",
       "    .dataframe tbody tr th:only-of-type {\n",
       "        vertical-align: middle;\n",
       "    }\n",
       "\n",
       "    .dataframe tbody tr th {\n",
       "        vertical-align: top;\n",
       "    }\n",
       "\n",
       "    .dataframe thead th {\n",
       "        text-align: right;\n",
       "    }\n",
       "</style>\n",
       "<table border=\"1\" class=\"dataframe\">\n",
       "  <thead>\n",
       "    <tr style=\"text-align: right;\">\n",
       "      <th></th>\n",
       "      <th>VendorID</th>\n",
       "      <th>tpep_pickup_datetime</th>\n",
       "      <th>tpep_dropoff_datetime</th>\n",
       "      <th>passenger_count</th>\n",
       "      <th>trip_distance</th>\n",
       "      <th>RatecodeID</th>\n",
       "      <th>store_and_fwd_flag</th>\n",
       "      <th>PULocationID</th>\n",
       "      <th>DOLocationID</th>\n",
       "      <th>payment_type</th>\n",
       "      <th>fare_amount</th>\n",
       "      <th>extra</th>\n",
       "      <th>mta_tax</th>\n",
       "      <th>tip_amount</th>\n",
       "      <th>tolls_amount</th>\n",
       "      <th>improvement_surcharge</th>\n",
       "      <th>total_amount</th>\n",
       "      <th>congestion_surcharge</th>\n",
       "      <th>duration</th>\n",
       "    </tr>\n",
       "  </thead>\n",
       "  <tbody>\n",
       "    <tr>\n",
       "      <th>0</th>\n",
       "      <td>1.0</td>\n",
       "      <td>2020-01-01 00:28:15</td>\n",
       "      <td>2020-01-01 00:33:03</td>\n",
       "      <td>1.0</td>\n",
       "      <td>1.2</td>\n",
       "      <td>1.0</td>\n",
       "      <td>N</td>\n",
       "      <td>238</td>\n",
       "      <td>239</td>\n",
       "      <td>1.0</td>\n",
       "      <td>6.0</td>\n",
       "      <td>3.0</td>\n",
       "      <td>0.5</td>\n",
       "      <td>1.47</td>\n",
       "      <td>0.0</td>\n",
       "      <td>0.3</td>\n",
       "      <td>11.27</td>\n",
       "      <td>2.5</td>\n",
       "      <td>4.800000</td>\n",
       "    </tr>\n",
       "    <tr>\n",
       "      <th>1</th>\n",
       "      <td>1.0</td>\n",
       "      <td>2020-01-01 00:35:39</td>\n",
       "      <td>2020-01-01 00:43:04</td>\n",
       "      <td>1.0</td>\n",
       "      <td>1.2</td>\n",
       "      <td>1.0</td>\n",
       "      <td>N</td>\n",
       "      <td>239</td>\n",
       "      <td>238</td>\n",
       "      <td>1.0</td>\n",
       "      <td>7.0</td>\n",
       "      <td>3.0</td>\n",
       "      <td>0.5</td>\n",
       "      <td>1.50</td>\n",
       "      <td>0.0</td>\n",
       "      <td>0.3</td>\n",
       "      <td>12.30</td>\n",
       "      <td>2.5</td>\n",
       "      <td>7.416667</td>\n",
       "    </tr>\n",
       "    <tr>\n",
       "      <th>2</th>\n",
       "      <td>1.0</td>\n",
       "      <td>2020-01-01 00:47:41</td>\n",
       "      <td>2020-01-01 00:53:52</td>\n",
       "      <td>1.0</td>\n",
       "      <td>0.6</td>\n",
       "      <td>1.0</td>\n",
       "      <td>N</td>\n",
       "      <td>238</td>\n",
       "      <td>238</td>\n",
       "      <td>1.0</td>\n",
       "      <td>6.0</td>\n",
       "      <td>3.0</td>\n",
       "      <td>0.5</td>\n",
       "      <td>1.00</td>\n",
       "      <td>0.0</td>\n",
       "      <td>0.3</td>\n",
       "      <td>10.80</td>\n",
       "      <td>2.5</td>\n",
       "      <td>6.183333</td>\n",
       "    </tr>\n",
       "    <tr>\n",
       "      <th>3</th>\n",
       "      <td>1.0</td>\n",
       "      <td>2020-01-01 00:55:23</td>\n",
       "      <td>2020-01-01 01:00:14</td>\n",
       "      <td>1.0</td>\n",
       "      <td>0.8</td>\n",
       "      <td>1.0</td>\n",
       "      <td>N</td>\n",
       "      <td>238</td>\n",
       "      <td>151</td>\n",
       "      <td>1.0</td>\n",
       "      <td>5.5</td>\n",
       "      <td>0.5</td>\n",
       "      <td>0.5</td>\n",
       "      <td>1.36</td>\n",
       "      <td>0.0</td>\n",
       "      <td>0.3</td>\n",
       "      <td>8.16</td>\n",
       "      <td>0.0</td>\n",
       "      <td>4.850000</td>\n",
       "    </tr>\n",
       "    <tr>\n",
       "      <th>4</th>\n",
       "      <td>2.0</td>\n",
       "      <td>2020-01-01 00:01:58</td>\n",
       "      <td>2020-01-01 00:04:16</td>\n",
       "      <td>1.0</td>\n",
       "      <td>0.0</td>\n",
       "      <td>1.0</td>\n",
       "      <td>N</td>\n",
       "      <td>193</td>\n",
       "      <td>193</td>\n",
       "      <td>2.0</td>\n",
       "      <td>3.5</td>\n",
       "      <td>0.5</td>\n",
       "      <td>0.5</td>\n",
       "      <td>0.00</td>\n",
       "      <td>0.0</td>\n",
       "      <td>0.3</td>\n",
       "      <td>4.80</td>\n",
       "      <td>0.0</td>\n",
       "      <td>2.300000</td>\n",
       "    </tr>\n",
       "  </tbody>\n",
       "</table>\n",
       "</div>"
      ],
      "text/plain": [
       "   VendorID tpep_pickup_datetime tpep_dropoff_datetime  passenger_count  \\\n",
       "0       1.0  2020-01-01 00:28:15   2020-01-01 00:33:03              1.0   \n",
       "1       1.0  2020-01-01 00:35:39   2020-01-01 00:43:04              1.0   \n",
       "2       1.0  2020-01-01 00:47:41   2020-01-01 00:53:52              1.0   \n",
       "3       1.0  2020-01-01 00:55:23   2020-01-01 01:00:14              1.0   \n",
       "4       2.0  2020-01-01 00:01:58   2020-01-01 00:04:16              1.0   \n",
       "\n",
       "   trip_distance  RatecodeID store_and_fwd_flag  PULocationID  DOLocationID  \\\n",
       "0            1.2         1.0                  N           238           239   \n",
       "1            1.2         1.0                  N           239           238   \n",
       "2            0.6         1.0                  N           238           238   \n",
       "3            0.8         1.0                  N           238           151   \n",
       "4            0.0         1.0                  N           193           193   \n",
       "\n",
       "   payment_type  fare_amount  extra  mta_tax  tip_amount  tolls_amount  \\\n",
       "0           1.0          6.0    3.0      0.5        1.47           0.0   \n",
       "1           1.0          7.0    3.0      0.5        1.50           0.0   \n",
       "2           1.0          6.0    3.0      0.5        1.00           0.0   \n",
       "3           1.0          5.5    0.5      0.5        1.36           0.0   \n",
       "4           2.0          3.5    0.5      0.5        0.00           0.0   \n",
       "\n",
       "   improvement_surcharge  total_amount  congestion_surcharge  duration  \n",
       "0                    0.3         11.27                   2.5  4.800000  \n",
       "1                    0.3         12.30                   2.5  7.416667  \n",
       "2                    0.3         10.80                   2.5  6.183333  \n",
       "3                    0.3          8.16                   0.0  4.850000  \n",
       "4                    0.3          4.80                   0.0  2.300000  "
      ]
     },
     "execution_count": 14,
     "metadata": {},
     "output_type": "execute_result"
    }
   ],
   "source": [
    "# The duration came as 0days 00:04:48. Lets convert it to minutes.\n",
    "#data ['duration'] = pd.to_timedelta(data ['duration'])\n",
    "\n",
    "data['duration'] = data['duration'].dt.total_seconds() / 60\n",
    "data.head()"
   ]
  },
  {
   "cell_type": "markdown",
   "id": "46b89f01",
   "metadata": {},
   "source": [
    "**Now, I extracted only the relevant columns. Can be done either by drop or extracting the required columns.**"
   ]
  },
  {
   "cell_type": "code",
   "execution_count": 16,
   "id": "a488d913",
   "metadata": {},
   "outputs": [
    {
     "data": {
      "text/html": [
       "<div>\n",
       "<style scoped>\n",
       "    .dataframe tbody tr th:only-of-type {\n",
       "        vertical-align: middle;\n",
       "    }\n",
       "\n",
       "    .dataframe tbody tr th {\n",
       "        vertical-align: top;\n",
       "    }\n",
       "\n",
       "    .dataframe thead th {\n",
       "        text-align: right;\n",
       "    }\n",
       "</style>\n",
       "<table border=\"1\" class=\"dataframe\">\n",
       "  <thead>\n",
       "    <tr style=\"text-align: right;\">\n",
       "      <th></th>\n",
       "      <th>passenger_count</th>\n",
       "      <th>trip_distance</th>\n",
       "      <th>fare_amount</th>\n",
       "      <th>duration</th>\n",
       "      <th>payment_type</th>\n",
       "    </tr>\n",
       "  </thead>\n",
       "  <tbody>\n",
       "    <tr>\n",
       "      <th>0</th>\n",
       "      <td>1.0</td>\n",
       "      <td>1.20</td>\n",
       "      <td>6.00</td>\n",
       "      <td>4.800000</td>\n",
       "      <td>1.0</td>\n",
       "    </tr>\n",
       "    <tr>\n",
       "      <th>1</th>\n",
       "      <td>1.0</td>\n",
       "      <td>1.20</td>\n",
       "      <td>7.00</td>\n",
       "      <td>7.416667</td>\n",
       "      <td>1.0</td>\n",
       "    </tr>\n",
       "    <tr>\n",
       "      <th>2</th>\n",
       "      <td>1.0</td>\n",
       "      <td>0.60</td>\n",
       "      <td>6.00</td>\n",
       "      <td>6.183333</td>\n",
       "      <td>1.0</td>\n",
       "    </tr>\n",
       "    <tr>\n",
       "      <th>3</th>\n",
       "      <td>1.0</td>\n",
       "      <td>0.80</td>\n",
       "      <td>5.50</td>\n",
       "      <td>4.850000</td>\n",
       "      <td>1.0</td>\n",
       "    </tr>\n",
       "    <tr>\n",
       "      <th>4</th>\n",
       "      <td>1.0</td>\n",
       "      <td>0.00</td>\n",
       "      <td>3.50</td>\n",
       "      <td>2.300000</td>\n",
       "      <td>2.0</td>\n",
       "    </tr>\n",
       "    <tr>\n",
       "      <th>...</th>\n",
       "      <td>...</td>\n",
       "      <td>...</td>\n",
       "      <td>...</td>\n",
       "      <td>...</td>\n",
       "      <td>...</td>\n",
       "    </tr>\n",
       "    <tr>\n",
       "      <th>6405003</th>\n",
       "      <td>NaN</td>\n",
       "      <td>3.24</td>\n",
       "      <td>17.59</td>\n",
       "      <td>31.000000</td>\n",
       "      <td>NaN</td>\n",
       "    </tr>\n",
       "    <tr>\n",
       "      <th>6405004</th>\n",
       "      <td>NaN</td>\n",
       "      <td>22.13</td>\n",
       "      <td>46.67</td>\n",
       "      <td>76.000000</td>\n",
       "      <td>NaN</td>\n",
       "    </tr>\n",
       "    <tr>\n",
       "      <th>6405005</th>\n",
       "      <td>NaN</td>\n",
       "      <td>10.51</td>\n",
       "      <td>48.85</td>\n",
       "      <td>27.833333</td>\n",
       "      <td>NaN</td>\n",
       "    </tr>\n",
       "    <tr>\n",
       "      <th>6405006</th>\n",
       "      <td>NaN</td>\n",
       "      <td>5.49</td>\n",
       "      <td>27.17</td>\n",
       "      <td>22.650000</td>\n",
       "      <td>NaN</td>\n",
       "    </tr>\n",
       "    <tr>\n",
       "      <th>6405007</th>\n",
       "      <td>NaN</td>\n",
       "      <td>11.60</td>\n",
       "      <td>54.56</td>\n",
       "      <td>22.000000</td>\n",
       "      <td>NaN</td>\n",
       "    </tr>\n",
       "  </tbody>\n",
       "</table>\n",
       "<p>6405008 rows × 5 columns</p>\n",
       "</div>"
      ],
      "text/plain": [
       "         passenger_count  trip_distance  fare_amount   duration  payment_type\n",
       "0                    1.0           1.20         6.00   4.800000           1.0\n",
       "1                    1.0           1.20         7.00   7.416667           1.0\n",
       "2                    1.0           0.60         6.00   6.183333           1.0\n",
       "3                    1.0           0.80         5.50   4.850000           1.0\n",
       "4                    1.0           0.00         3.50   2.300000           2.0\n",
       "...                  ...            ...          ...        ...           ...\n",
       "6405003              NaN           3.24        17.59  31.000000           NaN\n",
       "6405004              NaN          22.13        46.67  76.000000           NaN\n",
       "6405005              NaN          10.51        48.85  27.833333           NaN\n",
       "6405006              NaN           5.49        27.17  22.650000           NaN\n",
       "6405007              NaN          11.60        54.56  22.000000           NaN\n",
       "\n",
       "[6405008 rows x 5 columns]"
      ]
     },
     "execution_count": 16,
     "metadata": {},
     "output_type": "execute_result"
    }
   ],
   "source": [
    "data = data [ ['passenger_count', 'trip_distance', 'fare_amount', 'duration', 'payment_type'] ]\n",
    "data"
   ]
  },
  {
   "cell_type": "code",
   "execution_count": 17,
   "id": "7f68a30e",
   "metadata": {},
   "outputs": [
    {
     "data": {
      "text/plain": [
       "passenger_count    65441\n",
       "trip_distance          0\n",
       "fare_amount            0\n",
       "duration               0\n",
       "payment_type       65441\n",
       "dtype: int64"
      ]
     },
     "execution_count": 17,
     "metadata": {},
     "output_type": "execute_result"
    }
   ],
   "source": [
    "# Check missing values\n",
    "data.isnull().sum()"
   ]
  },
  {
   "cell_type": "code",
   "execution_count": 18,
   "id": "d77abc40",
   "metadata": {},
   "outputs": [
    {
     "name": "stdout",
     "output_type": "stream",
     "text": [
      "1.02\n"
     ]
    }
   ],
   "source": [
    "# Before dropping or deciding for the null values, lets calculate how much is the null data.\n",
    "null_percent = round((65441/ len(data) *100),2)\n",
    "print (null_percent)"
   ]
  },
  {
   "cell_type": "code",
   "execution_count": 19,
   "id": "ae4f90f8",
   "metadata": {},
   "outputs": [
    {
     "data": {
      "text/html": [
       "<div>\n",
       "<style scoped>\n",
       "    .dataframe tbody tr th:only-of-type {\n",
       "        vertical-align: middle;\n",
       "    }\n",
       "\n",
       "    .dataframe tbody tr th {\n",
       "        vertical-align: top;\n",
       "    }\n",
       "\n",
       "    .dataframe thead th {\n",
       "        text-align: right;\n",
       "    }\n",
       "</style>\n",
       "<table border=\"1\" class=\"dataframe\">\n",
       "  <thead>\n",
       "    <tr style=\"text-align: right;\">\n",
       "      <th></th>\n",
       "      <th>passenger_count</th>\n",
       "      <th>trip_distance</th>\n",
       "      <th>fare_amount</th>\n",
       "      <th>duration</th>\n",
       "      <th>payment_type</th>\n",
       "    </tr>\n",
       "  </thead>\n",
       "  <tbody>\n",
       "    <tr>\n",
       "      <th>0</th>\n",
       "      <td>1.0</td>\n",
       "      <td>1.20</td>\n",
       "      <td>6.0</td>\n",
       "      <td>4.800000</td>\n",
       "      <td>1.0</td>\n",
       "    </tr>\n",
       "    <tr>\n",
       "      <th>1</th>\n",
       "      <td>1.0</td>\n",
       "      <td>1.20</td>\n",
       "      <td>7.0</td>\n",
       "      <td>7.416667</td>\n",
       "      <td>1.0</td>\n",
       "    </tr>\n",
       "    <tr>\n",
       "      <th>2</th>\n",
       "      <td>1.0</td>\n",
       "      <td>0.60</td>\n",
       "      <td>6.0</td>\n",
       "      <td>6.183333</td>\n",
       "      <td>1.0</td>\n",
       "    </tr>\n",
       "    <tr>\n",
       "      <th>3</th>\n",
       "      <td>1.0</td>\n",
       "      <td>0.80</td>\n",
       "      <td>5.5</td>\n",
       "      <td>4.850000</td>\n",
       "      <td>1.0</td>\n",
       "    </tr>\n",
       "    <tr>\n",
       "      <th>4</th>\n",
       "      <td>1.0</td>\n",
       "      <td>0.00</td>\n",
       "      <td>3.5</td>\n",
       "      <td>2.300000</td>\n",
       "      <td>2.0</td>\n",
       "    </tr>\n",
       "    <tr>\n",
       "      <th>...</th>\n",
       "      <td>...</td>\n",
       "      <td>...</td>\n",
       "      <td>...</td>\n",
       "      <td>...</td>\n",
       "      <td>...</td>\n",
       "    </tr>\n",
       "    <tr>\n",
       "      <th>6339562</th>\n",
       "      <td>1.0</td>\n",
       "      <td>2.10</td>\n",
       "      <td>11.0</td>\n",
       "      <td>14.233333</td>\n",
       "      <td>1.0</td>\n",
       "    </tr>\n",
       "    <tr>\n",
       "      <th>6339563</th>\n",
       "      <td>1.0</td>\n",
       "      <td>2.13</td>\n",
       "      <td>13.0</td>\n",
       "      <td>19.000000</td>\n",
       "      <td>1.0</td>\n",
       "    </tr>\n",
       "    <tr>\n",
       "      <th>6339564</th>\n",
       "      <td>1.0</td>\n",
       "      <td>2.55</td>\n",
       "      <td>12.5</td>\n",
       "      <td>16.283333</td>\n",
       "      <td>1.0</td>\n",
       "    </tr>\n",
       "    <tr>\n",
       "      <th>6339565</th>\n",
       "      <td>1.0</td>\n",
       "      <td>1.61</td>\n",
       "      <td>8.5</td>\n",
       "      <td>9.633333</td>\n",
       "      <td>2.0</td>\n",
       "    </tr>\n",
       "    <tr>\n",
       "      <th>6339566</th>\n",
       "      <td>1.0</td>\n",
       "      <td>0.00</td>\n",
       "      <td>0.0</td>\n",
       "      <td>1.066667</td>\n",
       "      <td>1.0</td>\n",
       "    </tr>\n",
       "  </tbody>\n",
       "</table>\n",
       "<p>6339567 rows × 5 columns</p>\n",
       "</div>"
      ],
      "text/plain": [
       "         passenger_count  trip_distance  fare_amount   duration  payment_type\n",
       "0                    1.0           1.20          6.0   4.800000           1.0\n",
       "1                    1.0           1.20          7.0   7.416667           1.0\n",
       "2                    1.0           0.60          6.0   6.183333           1.0\n",
       "3                    1.0           0.80          5.5   4.850000           1.0\n",
       "4                    1.0           0.00          3.5   2.300000           2.0\n",
       "...                  ...            ...          ...        ...           ...\n",
       "6339562              1.0           2.10         11.0  14.233333           1.0\n",
       "6339563              1.0           2.13         13.0  19.000000           1.0\n",
       "6339564              1.0           2.55         12.5  16.283333           1.0\n",
       "6339565              1.0           1.61          8.5   9.633333           2.0\n",
       "6339566              1.0           0.00          0.0   1.066667           1.0\n",
       "\n",
       "[6339567 rows x 5 columns]"
      ]
     },
     "execution_count": 19,
     "metadata": {},
     "output_type": "execute_result"
    }
   ],
   "source": [
    "# Since, only 1% data is affected, which is not huge, we now drop it.\n",
    "data.dropna(inplace = True)\n",
    "data"
   ]
  },
  {
   "cell_type": "code",
   "execution_count": 20,
   "id": "bf59bb7a",
   "metadata": {},
   "outputs": [],
   "source": [
    "# Convert columns to integer from float\n",
    "data ['passenger_count'] = data ['passenger_count'].astype('int64')\n",
    "data ['payment_type'] = data ['payment_type'].astype('int64')"
   ]
  },
  {
   "cell_type": "code",
   "execution_count": 21,
   "id": "00237238",
   "metadata": {},
   "outputs": [
    {
     "data": {
      "text/html": [
       "<div>\n",
       "<style scoped>\n",
       "    .dataframe tbody tr th:only-of-type {\n",
       "        vertical-align: middle;\n",
       "    }\n",
       "\n",
       "    .dataframe tbody tr th {\n",
       "        vertical-align: top;\n",
       "    }\n",
       "\n",
       "    .dataframe thead th {\n",
       "        text-align: right;\n",
       "    }\n",
       "</style>\n",
       "<table border=\"1\" class=\"dataframe\">\n",
       "  <thead>\n",
       "    <tr style=\"text-align: right;\">\n",
       "      <th></th>\n",
       "      <th>passenger_count</th>\n",
       "      <th>trip_distance</th>\n",
       "      <th>fare_amount</th>\n",
       "      <th>duration</th>\n",
       "      <th>payment_type</th>\n",
       "    </tr>\n",
       "  </thead>\n",
       "  <tbody>\n",
       "    <tr>\n",
       "      <th>2056</th>\n",
       "      <td>1</td>\n",
       "      <td>0.00</td>\n",
       "      <td>7.0</td>\n",
       "      <td>0.000000</td>\n",
       "      <td>2</td>\n",
       "    </tr>\n",
       "    <tr>\n",
       "      <th>2441</th>\n",
       "      <td>1</td>\n",
       "      <td>0.00</td>\n",
       "      <td>52.0</td>\n",
       "      <td>0.200000</td>\n",
       "      <td>1</td>\n",
       "    </tr>\n",
       "    <tr>\n",
       "      <th>2446</th>\n",
       "      <td>2</td>\n",
       "      <td>1.70</td>\n",
       "      <td>9.5</td>\n",
       "      <td>13.066667</td>\n",
       "      <td>1</td>\n",
       "    </tr>\n",
       "    <tr>\n",
       "      <th>2465</th>\n",
       "      <td>1</td>\n",
       "      <td>0.40</td>\n",
       "      <td>4.0</td>\n",
       "      <td>3.083333</td>\n",
       "      <td>1</td>\n",
       "    </tr>\n",
       "    <tr>\n",
       "      <th>3344</th>\n",
       "      <td>1</td>\n",
       "      <td>1.20</td>\n",
       "      <td>6.0</td>\n",
       "      <td>5.350000</td>\n",
       "      <td>1</td>\n",
       "    </tr>\n",
       "    <tr>\n",
       "      <th>...</th>\n",
       "      <td>...</td>\n",
       "      <td>...</td>\n",
       "      <td>...</td>\n",
       "      <td>...</td>\n",
       "      <td>...</td>\n",
       "    </tr>\n",
       "    <tr>\n",
       "      <th>6339558</th>\n",
       "      <td>1</td>\n",
       "      <td>1.63</td>\n",
       "      <td>8.0</td>\n",
       "      <td>8.800000</td>\n",
       "      <td>2</td>\n",
       "    </tr>\n",
       "    <tr>\n",
       "      <th>6339559</th>\n",
       "      <td>1</td>\n",
       "      <td>1.81</td>\n",
       "      <td>8.5</td>\n",
       "      <td>8.016667</td>\n",
       "      <td>1</td>\n",
       "    </tr>\n",
       "    <tr>\n",
       "      <th>6339560</th>\n",
       "      <td>1</td>\n",
       "      <td>0.98</td>\n",
       "      <td>6.5</td>\n",
       "      <td>6.900000</td>\n",
       "      <td>2</td>\n",
       "    </tr>\n",
       "    <tr>\n",
       "      <th>6339562</th>\n",
       "      <td>1</td>\n",
       "      <td>2.10</td>\n",
       "      <td>11.0</td>\n",
       "      <td>14.233333</td>\n",
       "      <td>1</td>\n",
       "    </tr>\n",
       "    <tr>\n",
       "      <th>6339565</th>\n",
       "      <td>1</td>\n",
       "      <td>1.61</td>\n",
       "      <td>8.5</td>\n",
       "      <td>9.633333</td>\n",
       "      <td>2</td>\n",
       "    </tr>\n",
       "  </tbody>\n",
       "</table>\n",
       "<p>3331706 rows × 5 columns</p>\n",
       "</div>"
      ],
      "text/plain": [
       "         passenger_count  trip_distance  fare_amount   duration  payment_type\n",
       "2056                   1           0.00          7.0   0.000000             2\n",
       "2441                   1           0.00         52.0   0.200000             1\n",
       "2446                   2           1.70          9.5  13.066667             1\n",
       "2465                   1           0.40          4.0   3.083333             1\n",
       "3344                   1           1.20          6.0   5.350000             1\n",
       "...                  ...            ...          ...        ...           ...\n",
       "6339558                1           1.63          8.0   8.800000             2\n",
       "6339559                1           1.81          8.5   8.016667             1\n",
       "6339560                1           0.98          6.5   6.900000             2\n",
       "6339562                1           2.10         11.0  14.233333             1\n",
       "6339565                1           1.61          8.5   9.633333             2\n",
       "\n",
       "[3331706 rows x 5 columns]"
      ]
     },
     "execution_count": 21,
     "metadata": {},
     "output_type": "execute_result"
    }
   ],
   "source": [
    "# Lets check duplicate value\n",
    "data [data.duplicated()]"
   ]
  },
  {
   "cell_type": "code",
   "execution_count": 22,
   "id": "8c470d91",
   "metadata": {},
   "outputs": [
    {
     "name": "stdout",
     "output_type": "stream",
     "text": [
      "duplicates:  3331706\n"
     ]
    }
   ],
   "source": [
    "# To check the duplicate rows\n",
    "print('duplicates: ',data.duplicated().sum())"
   ]
  },
  {
   "cell_type": "code",
   "execution_count": 23,
   "id": "ed8f6fe6",
   "metadata": {},
   "outputs": [
    {
     "name": "stdout",
     "output_type": "stream",
     "text": [
      "NAs: \n",
      " passenger_count    0\n",
      "trip_distance      0\n",
      "fare_amount        0\n",
      "duration           0\n",
      "payment_type       0\n",
      "dtype: int64\n"
     ]
    }
   ],
   "source": [
    "# calculates the number of missing values (NaNs) in each column data and prints the result. \n",
    "# data.isna() returns a DataFrame of the same shape as data with True values where NaNs are present and False otherwise. \n",
    "# sum() then calculates the sum of True values along each column, effectively giving the count of NaNs in each column.\n",
    "print('NAs: \\n', data.isna().sum())"
   ]
  },
  {
   "cell_type": "code",
   "execution_count": 24,
   "id": "71310e80",
   "metadata": {},
   "outputs": [
    {
     "data": {
      "text/plain": [
       "(3007861, 5)"
      ]
     },
     "execution_count": 24,
     "metadata": {},
     "output_type": "execute_result"
    }
   ],
   "source": [
    "# Since, half the data is duplicated. This is because the data is directly generated from vendor, on which we rely on, So, lets drop it.\n",
    "data.drop_duplicates(inplace = True)\n",
    "data.shape"
   ]
  },
  {
   "cell_type": "code",
   "execution_count": 25,
   "id": "0b76e996",
   "metadata": {},
   "outputs": [
    {
     "data": {
      "text/plain": [
       "1    58.198102\n",
       "2    19.035022\n",
       "3     6.636011\n",
       "5     6.293675\n",
       "6     3.927176\n",
       "4     3.604621\n",
       "0     2.303298\n",
       "7     0.000931\n",
       "9     0.000598\n",
       "8     0.000565\n",
       "Name: passenger_count, dtype: float64"
      ]
     },
     "execution_count": 25,
     "metadata": {},
     "output_type": "execute_result"
    }
   ],
   "source": [
    "# Lets see the passenger distribution. We know passenger and payment_type is categorical.\n",
    "passenger_values = (data ['passenger_count'].value_counts (normalize = True) *100)   # value_counts give the frequency, normalize gives percentage of contribution made\n",
    "passenger_values"
   ]
  },
  {
   "cell_type": "markdown",
   "id": "032be2a3",
   "metadata": {},
   "source": [
    "**From the details, it cannot be possible for 0 passengers making contribution, 0 will be removed. \n",
    "Also, remove 7,8 & 9 as they have too low contribution as well as these number of passengers are realistically not expected.**"
   ]
  },
  {
   "cell_type": "code",
   "execution_count": 26,
   "id": "2446a07b",
   "metadata": {},
   "outputs": [
    {
     "data": {
      "text/plain": [
       "1    67.826705\n",
       "2    30.757306\n",
       "3     0.872148\n",
       "4     0.543808\n",
       "5     0.000033\n",
       "Name: payment_type, dtype: float64"
      ]
     },
     "execution_count": 26,
     "metadata": {},
     "output_type": "execute_result"
    }
   ],
   "source": [
    "# Lets also check for payment_type.\n",
    "payment_values = (data ['payment_type'].value_counts (normalize = True) *100)   \n",
    "payment_values"
   ]
  },
  {
   "cell_type": "code",
   "execution_count": 27,
   "id": "9bf7574f",
   "metadata": {},
   "outputs": [],
   "source": [
    "# Since payment type 3,4  and 5 as well have very less proportion, I will now remove it as well.\n",
    "data = data [ data.shape(data ['passenger_count'] > 0) & (data['passenger_count'] <6)]   # passengers gretaer than 0 but less than 6\n",
    "data = data [ data ['payment_type'] <3]    # payment_type less than 3"
   ]
  },
  {
   "cell_type": "code",
   "execution_count": 28,
   "id": "525e0a6e",
   "metadata": {},
   "outputs": [
    {
     "data": {
      "text/plain": [
       "(2780283, 5)"
      ]
     },
     "execution_count": 28,
     "metadata": {},
     "output_type": "execute_result"
    }
   ],
   "source": [
    "data.shape"
   ]
  },
  {
   "cell_type": "code",
   "execution_count": 29,
   "id": "9f6f35ac",
   "metadata": {},
   "outputs": [],
   "source": [
    "# Convert payment type to categories. Described in the dataset for mapping, denoted by 1 for Card and 2 for Cash.\n",
    "data ['payment_type'].replace([1,2], ['Card', 'Cash'], inplace = True)\n",
    "#data"
   ]
  },
  {
   "cell_type": "code",
   "execution_count": 30,
   "id": "12ecbe87",
   "metadata": {},
   "outputs": [
    {
     "data": {
      "text/html": [
       "<div>\n",
       "<style scoped>\n",
       "    .dataframe tbody tr th:only-of-type {\n",
       "        vertical-align: middle;\n",
       "    }\n",
       "\n",
       "    .dataframe tbody tr th {\n",
       "        vertical-align: top;\n",
       "    }\n",
       "\n",
       "    .dataframe thead th {\n",
       "        text-align: right;\n",
       "    }\n",
       "</style>\n",
       "<table border=\"1\" class=\"dataframe\">\n",
       "  <thead>\n",
       "    <tr style=\"text-align: right;\">\n",
       "      <th></th>\n",
       "      <th>passenger_count</th>\n",
       "      <th>trip_distance</th>\n",
       "      <th>fare_amount</th>\n",
       "      <th>duration</th>\n",
       "    </tr>\n",
       "  </thead>\n",
       "  <tbody>\n",
       "    <tr>\n",
       "      <th>count</th>\n",
       "      <td>2.780283e+06</td>\n",
       "      <td>2.780283e+06</td>\n",
       "      <td>2.780283e+06</td>\n",
       "      <td>2.780283e+06</td>\n",
       "    </tr>\n",
       "    <tr>\n",
       "      <th>mean</th>\n",
       "      <td>1.733386e+00</td>\n",
       "      <td>4.536729e+00</td>\n",
       "      <td>1.780567e+01</td>\n",
       "      <td>2.415478e+01</td>\n",
       "    </tr>\n",
       "    <tr>\n",
       "      <th>std</th>\n",
       "      <td>1.176652e+00</td>\n",
       "      <td>4.895890e+00</td>\n",
       "      <td>1.506997e+01</td>\n",
       "      <td>9.260031e+01</td>\n",
       "    </tr>\n",
       "    <tr>\n",
       "      <th>min</th>\n",
       "      <td>1.000000e+00</td>\n",
       "      <td>-2.218000e+01</td>\n",
       "      <td>-5.000000e+02</td>\n",
       "      <td>-2.770367e+03</td>\n",
       "    </tr>\n",
       "    <tr>\n",
       "      <th>25%</th>\n",
       "      <td>1.000000e+00</td>\n",
       "      <td>1.500000e+00</td>\n",
       "      <td>9.000000e+00</td>\n",
       "      <td>9.883333e+00</td>\n",
       "    </tr>\n",
       "    <tr>\n",
       "      <th>50%</th>\n",
       "      <td>1.000000e+00</td>\n",
       "      <td>2.730000e+00</td>\n",
       "      <td>1.300000e+01</td>\n",
       "      <td>1.573333e+01</td>\n",
       "    </tr>\n",
       "    <tr>\n",
       "      <th>75%</th>\n",
       "      <td>2.000000e+00</td>\n",
       "      <td>5.470000e+00</td>\n",
       "      <td>2.100000e+01</td>\n",
       "      <td>2.336667e+01</td>\n",
       "    </tr>\n",
       "    <tr>\n",
       "      <th>max</th>\n",
       "      <td>5.000000e+00</td>\n",
       "      <td>2.628800e+02</td>\n",
       "      <td>4.265000e+03</td>\n",
       "      <td>8.525117e+03</td>\n",
       "    </tr>\n",
       "  </tbody>\n",
       "</table>\n",
       "</div>"
      ],
      "text/plain": [
       "       passenger_count  trip_distance   fare_amount      duration\n",
       "count     2.780283e+06   2.780283e+06  2.780283e+06  2.780283e+06\n",
       "mean      1.733386e+00   4.536729e+00  1.780567e+01  2.415478e+01\n",
       "std       1.176652e+00   4.895890e+00  1.506997e+01  9.260031e+01\n",
       "min       1.000000e+00  -2.218000e+01 -5.000000e+02 -2.770367e+03\n",
       "25%       1.000000e+00   1.500000e+00  9.000000e+00  9.883333e+00\n",
       "50%       1.000000e+00   2.730000e+00  1.300000e+01  1.573333e+01\n",
       "75%       2.000000e+00   5.470000e+00  2.100000e+01  2.336667e+01\n",
       "max       5.000000e+00   2.628800e+02  4.265000e+03  8.525117e+03"
      ]
     },
     "execution_count": 30,
     "metadata": {},
     "output_type": "execute_result"
    }
   ],
   "source": [
    "data.describe()"
   ]
  },
  {
   "cell_type": "code",
   "execution_count": 31,
   "id": "f95cad17",
   "metadata": {},
   "outputs": [],
   "source": [
    "# The data description shows negative distance, amount, etc in min value which is not possible. I thus removed them.\n",
    "data = data [ data['trip_distance'] > 0]\n",
    "data = data [ data['fare_amount'] > 0]\n",
    "data = data [ data['duration'] > 0]"
   ]
  },
  {
   "cell_type": "code",
   "execution_count": 32,
   "id": "3478807c",
   "metadata": {},
   "outputs": [
    {
     "data": {
      "text/plain": [
       "(2748932, 5)"
      ]
     },
     "execution_count": 32,
     "metadata": {},
     "output_type": "execute_result"
    }
   ],
   "source": [
    "data.shape\n",
    "#data.describe()"
   ]
  },
  {
   "cell_type": "markdown",
   "id": "2a49cdde",
   "metadata": {},
   "source": [
    "# Visualization"
   ]
  },
  {
   "cell_type": "code",
   "execution_count": 33,
   "id": "083d0875",
   "metadata": {},
   "outputs": [
    {
     "data": {
      "image/png": "[encoded data removed]",
      "text/plain": [
       "<Figure size 600x500 with 1 Axes>"
      ]
     },
     "metadata": {},
     "output_type": "display_data"
    }
   ],
   "source": [
    "# From descriptive statistic, it shows there are outliers, lets see it in charts. \n",
    "#This can be done by scatterplot, boxplot, histograms, z-score plt or qq-plot.\n",
    "plt.figure (figsize = (6,5))\n",
    "plt.title ('Detecting outliers in data', fontsize = 10)\n",
    "sns.boxplot(data = data, x = 'payment_type', y = 'fare_amount')\n",
    "plt.show()"
   ]
  },
  {
   "cell_type": "code",
   "execution_count": 34,
   "id": "34050afb",
   "metadata": {},
   "outputs": [
    {
     "data": {
      "text/plain": [
       "(2297908, 5)"
      ]
     },
     "execution_count": 34,
     "metadata": {},
     "output_type": "execute_result"
    }
   ],
   "source": [
    "# The boxplot shows the outliers. So, to remove it, I can either use z-score\n",
    "# (better suited for noraml distribution, here not preferred). Hence, I use IQR.\n",
    "for col in ['fare_amount', 'trip_distance', 'duration']:\n",
    "    q1 = data [col].quantile (0.25)   # Q1\n",
    "    q3 = data [col].quantile (0.75)   # Q3\n",
    "    IQR = q3 - q1\n",
    "\n",
    "    lower_bound = q1-1.5*IQR\n",
    "    upper_bound = q3+1.5*IQR\n",
    "\n",
    "    # Now the date should be greater than lower_bound and less than upper_bound\n",
    "    data = data [ (data[col] >= lower_bound) & (data[col] <= upper_bound) ]\n",
    "\n",
    "data.shape"
   ]
  },
  {
   "cell_type": "markdown",
   "id": "774231f6",
   "metadata": {},
   "source": [
    ">Now, to analyze customer preference of payment type in terms of duration and fare. For this, I selected histograms as they easily show normal distribution.\n",
    "This helps to analyze whether there is any relationship between card payments and fare amount or duration of travel."
   ]
  },
  {
   "cell_type": "code",
   "execution_count": 36,
   "id": "92e81306",
   "metadata": {
    "scrolled": true
   },
   "outputs": [
    {
     "data": {
      "image/png": "[encoded data removed]",
      "text/plain": [
       "<Figure size 1200x500 with 2 Axes>"
      ]
     },
     "metadata": {},
     "output_type": "display_data"
    }
   ],
   "source": [
    "plt.figure (figsize = (12,5) )\n",
    "plt.subplot (1,2,1)\n",
    "plt.title ('Distribution of Trip Duration', fontsize = 10)\n",
    "plt.hist (data[data['payment_type'] == 'Card']['duration'], histtype = 'barstacked', bins = 20, edgecolor = 'k', color = '#3E81D3', label = data['payment_type'])\n",
    "plt.hist (data[data['payment_type'] == 'Cash']['duration'], histtype = 'barstacked', bins = 20, edgecolor = 'k', color = '#F8DC68', label = data['payment_type'])\n",
    "plt.legend()\n",
    "\n",
    "plt.subplot (1,2,2)\n",
    "plt.title ('Distribution of Fare Amount', fontsize = 10)\n",
    "plt.hist (data[data['payment_type'] == 'Card']['fare_amount'], histtype = 'barstacked', bins = 20, edgecolor = 'k', color = '#3E81D3', label = data['payment_type'])\n",
    "plt.hist (data[data['payment_type'] == 'Cash']['fare_amount'], histtype = 'barstacked', bins = 20, edgecolor = 'k', color = '#F8DC68', label = data['payment_type'])\n",
    "plt.legend()\n",
    "plt.show()"
   ]
  },
  {
   "cell_type": "markdown",
   "id": "d9a83c8d",
   "metadata": {},
   "source": [
    ">Lets now see the mean and standard deviation using statistical method grouping all data."
   ]
  },
  {
   "cell_type": "code",
   "execution_count": 37,
   "id": "7cb673cc",
   "metadata": {},
   "outputs": [
    {
     "data": {
      "text/html": [
       "<div>\n",
       "<style scoped>\n",
       "    .dataframe tbody tr th:only-of-type {\n",
       "        vertical-align: middle;\n",
       "    }\n",
       "\n",
       "    .dataframe tbody tr th {\n",
       "        vertical-align: top;\n",
       "    }\n",
       "\n",
       "    .dataframe thead tr th {\n",
       "        text-align: left;\n",
       "    }\n",
       "\n",
       "    .dataframe thead tr:last-of-type th {\n",
       "        text-align: right;\n",
       "    }\n",
       "</style>\n",
       "<table border=\"1\" class=\"dataframe\">\n",
       "  <thead>\n",
       "    <tr>\n",
       "      <th></th>\n",
       "      <th colspan=\"2\" halign=\"left\">fare_amount</th>\n",
       "      <th colspan=\"2\" halign=\"left\">trip_distance</th>\n",
       "    </tr>\n",
       "    <tr>\n",
       "      <th></th>\n",
       "      <th>mean</th>\n",
       "      <th>std</th>\n",
       "      <th>mean</th>\n",
       "      <th>std</th>\n",
       "    </tr>\n",
       "    <tr>\n",
       "      <th>payment_type</th>\n",
       "      <th></th>\n",
       "      <th></th>\n",
       "      <th></th>\n",
       "      <th></th>\n",
       "    </tr>\n",
       "  </thead>\n",
       "  <tbody>\n",
       "    <tr>\n",
       "      <th>Card</th>\n",
       "      <td>13.112493</td>\n",
       "      <td>5.849281</td>\n",
       "      <td>2.992237</td>\n",
       "      <td>1.99274</td>\n",
       "    </tr>\n",
       "    <tr>\n",
       "      <th>Cash</th>\n",
       "      <td>11.758005</td>\n",
       "      <td>5.613038</td>\n",
       "      <td>2.602207</td>\n",
       "      <td>1.91372</td>\n",
       "    </tr>\n",
       "  </tbody>\n",
       "</table>\n",
       "</div>"
      ],
      "text/plain": [
       "             fare_amount           trip_distance         \n",
       "                    mean       std          mean      std\n",
       "payment_type                                             \n",
       "Card           13.112493  5.849281      2.992237  1.99274\n",
       "Cash           11.758005  5.613038      2.602207  1.91372"
      ]
     },
     "execution_count": 37,
     "metadata": {},
     "output_type": "execute_result"
    }
   ],
   "source": [
    "data.groupby('payment_type').agg ({ 'fare_amount' : ['mean', 'std'], 'trip_distance': ['mean', 'std'] })"
   ]
  },
  {
   "cell_type": "markdown",
   "id": "0eed242a",
   "metadata": {},
   "source": [
    ">From this statistical measure, and the distribution it is clear the more the fare amount, customers use card payment both in terms of trip distance and total fare.\n",
    "Lets now see the card payment percentages. For this either donut or pie is preferred."
   ]
  },
  {
   "cell_type": "code",
   "execution_count": 38,
   "id": "f9b7ec31",
   "metadata": {},
   "outputs": [
    {
     "data": {
      "image/png": "[encoded data removed]",
      "text/plain": [
       "<Figure size 640x480 with 1 Axes>"
      ]
     },
     "metadata": {},
     "output_type": "display_data"
    }
   ],
   "source": [
    "# Pie Chart for payment type percentage \n",
    "plt.figure ()\n",
    "plt.title ('Payment Type Preference Percentage')\n",
    "plt.pie (data ['payment_type'].value_counts(normalize = True), labels = data['payment_type'].value_counts().index, startangle = 90, shadow = True, \n",
    "           colors = ['#3E81D3','#F8DC68'], autopct = '%1.2f%%'   )\n",
    "plt.show()"
   ]
  },
  {
   "cell_type": "markdown",
   "id": "8639773a",
   "metadata": {},
   "source": [
    ">Hence, we now are certain customers prefer to pay by card more.\n",
    "Now, lets look at passenger count to see if more passengers generate more revenue.\n"
   ]
  },
  {
   "cell_type": "markdown",
   "id": "08c17fd7",
   "metadata": {},
   "source": [
    "# Passenger Count Analysis"
   ]
  },
  {
   "cell_type": "code",
   "execution_count": 39,
   "id": "f90bee11",
   "metadata": {},
   "outputs": [
    {
     "data": {
      "text/html": [
       "<div>\n",
       "<style scoped>\n",
       "    .dataframe tbody tr th:only-of-type {\n",
       "        vertical-align: middle;\n",
       "    }\n",
       "\n",
       "    .dataframe tbody tr th {\n",
       "        vertical-align: top;\n",
       "    }\n",
       "\n",
       "    .dataframe thead th {\n",
       "        text-align: right;\n",
       "    }\n",
       "</style>\n",
       "<table border=\"1\" class=\"dataframe\">\n",
       "  <thead>\n",
       "    <tr style=\"text-align: right;\">\n",
       "      <th></th>\n",
       "      <th></th>\n",
       "      <th>passenger_count</th>\n",
       "    </tr>\n",
       "    <tr>\n",
       "      <th>payment_type</th>\n",
       "      <th>passenger_count</th>\n",
       "      <th></th>\n",
       "    </tr>\n",
       "  </thead>\n",
       "  <tbody>\n",
       "    <tr>\n",
       "      <th rowspan=\"5\" valign=\"top\">Card</th>\n",
       "      <th>1</th>\n",
       "      <td>909245</td>\n",
       "    </tr>\n",
       "    <tr>\n",
       "      <th>2</th>\n",
       "      <td>327661</td>\n",
       "    </tr>\n",
       "    <tr>\n",
       "      <th>3</th>\n",
       "      <td>122412</td>\n",
       "    </tr>\n",
       "    <tr>\n",
       "      <th>4</th>\n",
       "      <td>63676</td>\n",
       "    </tr>\n",
       "    <tr>\n",
       "      <th>5</th>\n",
       "      <td>124045</td>\n",
       "    </tr>\n",
       "    <tr>\n",
       "      <th rowspan=\"5\" valign=\"top\">Cash</th>\n",
       "      <th>1</th>\n",
       "      <td>460550</td>\n",
       "    </tr>\n",
       "    <tr>\n",
       "      <th>2</th>\n",
       "      <td>155472</td>\n",
       "    </tr>\n",
       "    <tr>\n",
       "      <th>3</th>\n",
       "      <td>54506</td>\n",
       "    </tr>\n",
       "    <tr>\n",
       "      <th>4</th>\n",
       "      <td>32715</td>\n",
       "    </tr>\n",
       "    <tr>\n",
       "      <th>5</th>\n",
       "      <td>47626</td>\n",
       "    </tr>\n",
       "  </tbody>\n",
       "</table>\n",
       "</div>"
      ],
      "text/plain": [
       "                              passenger_count\n",
       "payment_type passenger_count                 \n",
       "Card         1                         909245\n",
       "             2                         327661\n",
       "             3                         122412\n",
       "             4                          63676\n",
       "             5                         124045\n",
       "Cash         1                         460550\n",
       "             2                         155472\n",
       "             3                          54506\n",
       "             4                          32715\n",
       "             5                          47626"
      ]
     },
     "execution_count": 39,
     "metadata": {},
     "output_type": "execute_result"
    }
   ],
   "source": [
    "passenger_count = data.groupby (['payment_type', 'passenger_count']) [['passenger_count']].count()\n",
    "passenger_count"
   ]
  },
  {
   "cell_type": "markdown",
   "id": "e48caa7e",
   "metadata": {},
   "source": [
    ">This distribution helps us to get the percentage of each grouped passenger count in terms of payment type. This will be further plotted as a stacked bar so that it identifies the details of each passenger group and payment type respectively."
   ]
  },
  {
   "cell_type": "code",
   "execution_count": 41,
   "id": "90b13071",
   "metadata": {},
   "outputs": [],
   "source": [
    "passenger_count.rename (columns = {'passenger_count' : 'count'}, inplace = True)\n",
    "passenger_count.reset_index (inplace = True)"
   ]
  },
  {
   "cell_type": "code",
   "execution_count": 42,
   "id": "60643a23",
   "metadata": {},
   "outputs": [
    {
     "data": {
      "text/html": [
       "<div>\n",
       "<style scoped>\n",
       "    .dataframe tbody tr th:only-of-type {\n",
       "        vertical-align: middle;\n",
       "    }\n",
       "\n",
       "    .dataframe tbody tr th {\n",
       "        vertical-align: top;\n",
       "    }\n",
       "\n",
       "    .dataframe thead th {\n",
       "        text-align: right;\n",
       "    }\n",
       "</style>\n",
       "<table border=\"1\" class=\"dataframe\">\n",
       "  <thead>\n",
       "    <tr style=\"text-align: right;\">\n",
       "      <th></th>\n",
       "      <th>payment_type</th>\n",
       "      <th>passenger_count</th>\n",
       "      <th>count</th>\n",
       "      <th>perc</th>\n",
       "    </tr>\n",
       "  </thead>\n",
       "  <tbody>\n",
       "    <tr>\n",
       "      <th>0</th>\n",
       "      <td>Card</td>\n",
       "      <td>1</td>\n",
       "      <td>909245</td>\n",
       "      <td>39.568381</td>\n",
       "    </tr>\n",
       "    <tr>\n",
       "      <th>1</th>\n",
       "      <td>Card</td>\n",
       "      <td>2</td>\n",
       "      <td>327661</td>\n",
       "      <td>14.259100</td>\n",
       "    </tr>\n",
       "    <tr>\n",
       "      <th>2</th>\n",
       "      <td>Card</td>\n",
       "      <td>3</td>\n",
       "      <td>122412</td>\n",
       "      <td>5.327106</td>\n",
       "    </tr>\n",
       "    <tr>\n",
       "      <th>3</th>\n",
       "      <td>Card</td>\n",
       "      <td>4</td>\n",
       "      <td>63676</td>\n",
       "      <td>2.771042</td>\n",
       "    </tr>\n",
       "    <tr>\n",
       "      <th>4</th>\n",
       "      <td>Card</td>\n",
       "      <td>5</td>\n",
       "      <td>124045</td>\n",
       "      <td>5.398171</td>\n",
       "    </tr>\n",
       "    <tr>\n",
       "      <th>5</th>\n",
       "      <td>Cash</td>\n",
       "      <td>1</td>\n",
       "      <td>460550</td>\n",
       "      <td>20.042143</td>\n",
       "    </tr>\n",
       "    <tr>\n",
       "      <th>6</th>\n",
       "      <td>Cash</td>\n",
       "      <td>2</td>\n",
       "      <td>155472</td>\n",
       "      <td>6.765806</td>\n",
       "    </tr>\n",
       "    <tr>\n",
       "      <th>7</th>\n",
       "      <td>Cash</td>\n",
       "      <td>3</td>\n",
       "      <td>54506</td>\n",
       "      <td>2.371984</td>\n",
       "    </tr>\n",
       "    <tr>\n",
       "      <th>8</th>\n",
       "      <td>Cash</td>\n",
       "      <td>4</td>\n",
       "      <td>32715</td>\n",
       "      <td>1.423686</td>\n",
       "    </tr>\n",
       "    <tr>\n",
       "      <th>9</th>\n",
       "      <td>Cash</td>\n",
       "      <td>5</td>\n",
       "      <td>47626</td>\n",
       "      <td>2.072581</td>\n",
       "    </tr>\n",
       "  </tbody>\n",
       "</table>\n",
       "</div>"
      ],
      "text/plain": [
       "  payment_type  passenger_count   count       perc\n",
       "0         Card                1  909245  39.568381\n",
       "1         Card                2  327661  14.259100\n",
       "2         Card                3  122412   5.327106\n",
       "3         Card                4   63676   2.771042\n",
       "4         Card                5  124045   5.398171\n",
       "5         Cash                1  460550  20.042143\n",
       "6         Cash                2  155472   6.765806\n",
       "7         Cash                3   54506   2.371984\n",
       "8         Cash                4   32715   1.423686\n",
       "9         Cash                5   47626   2.072581"
      ]
     },
     "execution_count": 42,
     "metadata": {},
     "output_type": "execute_result"
    }
   ],
   "source": [
    "passenger_count ['perc'] = (passenger_count['count']/passenger_count['count'].sum())* 100\n",
    "passenger_count"
   ]
  },
  {
   "cell_type": "markdown",
   "id": "5bbb380d",
   "metadata": {},
   "source": [
    ">To use a stacked bar, the data is passed to a new dataframe."
   ]
  },
  {
   "cell_type": "code",
   "execution_count": 43,
   "id": "feeb3072",
   "metadata": {},
   "outputs": [
    {
     "data": {
      "text/html": [
       "<div>\n",
       "<style scoped>\n",
       "    .dataframe tbody tr th:only-of-type {\n",
       "        vertical-align: middle;\n",
       "    }\n",
       "\n",
       "    .dataframe tbody tr th {\n",
       "        vertical-align: top;\n",
       "    }\n",
       "\n",
       "    .dataframe thead th {\n",
       "        text-align: right;\n",
       "    }\n",
       "</style>\n",
       "<table border=\"1\" class=\"dataframe\">\n",
       "  <thead>\n",
       "    <tr style=\"text-align: right;\">\n",
       "      <th></th>\n",
       "      <th>payment_type</th>\n",
       "      <th>1</th>\n",
       "      <th>2</th>\n",
       "      <th>3</th>\n",
       "      <th>4</th>\n",
       "      <th>5</th>\n",
       "    </tr>\n",
       "  </thead>\n",
       "  <tbody>\n",
       "    <tr>\n",
       "      <th>0</th>\n",
       "      <td>Card</td>\n",
       "      <td>39.568381</td>\n",
       "      <td>14.2591</td>\n",
       "      <td>5.327106</td>\n",
       "      <td>2.771042</td>\n",
       "      <td>5.398171</td>\n",
       "    </tr>\n",
       "    <tr>\n",
       "      <th>1</th>\n",
       "      <td>Cash</td>\n",
       "      <td>20.042143</td>\n",
       "      <td>6.765806</td>\n",
       "      <td>2.371984</td>\n",
       "      <td>1.423686</td>\n",
       "      <td>2.072581</td>\n",
       "    </tr>\n",
       "  </tbody>\n",
       "</table>\n",
       "</div>"
      ],
      "text/plain": [
       "  payment_type          1         2         3         4         5\n",
       "0         Card  39.568381   14.2591  5.327106  2.771042  5.398171\n",
       "1         Cash  20.042143  6.765806  2.371984  1.423686  2.072581"
      ]
     },
     "execution_count": 43,
     "metadata": {},
     "output_type": "execute_result"
    }
   ],
   "source": [
    "data_new = pd.DataFrame (columns = ['payment_type',1,2,3,4,5])\n",
    "data_new['payment_type'] = ['Card', 'Cash']\n",
    "data_new.iloc[0,1:] = passenger_count.iloc[0:5,-1]\n",
    "data_new.iloc[1,1:] = passenger_count.iloc[5:, -1]    #iloc [row_number,col_number]\n",
    "data_new"
   ]
  },
  {
   "cell_type": "code",
   "execution_count": 44,
   "id": "0062da6a",
   "metadata": {},
   "outputs": [
    {
     "data": {
      "image/png": "[encoded data removed]",
      "text/plain": [
       "<Figure size 1500x400 with 1 Axes>"
      ]
     },
     "metadata": {},
     "output_type": "display_data"
    }
   ],
   "source": [
    "#Creating stacked bar\n",
    "fig, ax = plt.subplots(figsize = (15,4))\n",
    "data_new.plot (x = 'payment_type', kind = 'barh', color = ['#F8DC68', '#7BD1F3', '#F3D97B', '#4DBDE9', '#F8F2DE' ], stacked = True, ax = ax)\n",
    "\n",
    "#Adding percentage text to bar\n",
    "for p in ax.patches:\n",
    "    width = p.get_width()\n",
    "    height = p.get_height()\n",
    "    x,y = p.get_xy()\n",
    "    ax.text(x + width /2,\n",
    "           y + height /2,\n",
    "           '{:.0f}%'.format(width),\n",
    "            horizontalalignment = 'center',\n",
    "            verticalalignment = 'center')"
   ]
  },
  {
   "cell_type": "markdown",
   "id": "6ff8352d",
   "metadata": {},
   "source": [
    "# Hypothesis Testing for the Analysis\n"
   ]
  },
  {
   "cell_type": "markdown",
   "id": "30d8b74e",
   "metadata": {},
   "source": [
    ">Null Hypothesis (Generally H0 a statement saying there is no effect):\n",
    "There is no difference between customers using card payment or cash payment.\n",
    "Alternative Hypothesis(Generally H1 is a difference between the means of the two groups):\n",
    "There is a difference between customers paying by cash or card.\n",
    "Lets identify the testing that suits in this case.\n",
    "1. Card and Cash are two independent samples to compare the mean average. Fare Amount is a continuous value.\n",
    "2. Chi-Square Test is a test concerning if the data is predicted, not suitable.\n",
    "3. Anova is performed when the data group is high, sice we have 2, not suitable.\n",
    "4. Z-Test sees if the average mean is same (large dataset, std should be known and should be normally distributed. Since we do not know std, lets check if normally distributed using qq-plot)"
   ]
  },
  {
   "cell_type": "code",
   "execution_count": 45,
   "id": "feca3ca6",
   "metadata": {},
   "outputs": [
    {
     "data": {
      "image/png": "[encoded data removed]",
      "text/plain": [
       "<Figure size 1000x400 with 2 Axes>"
      ]
     },
     "metadata": {},
     "output_type": "display_data"
    }
   ],
   "source": [
    "# Extracting fare amount data for Card and Cash payment types\n",
    "fare_card = data[data['payment_type'] == 'Card']['fare_amount']\n",
    "fare_cash = data[data['payment_type'] == 'Cash']['fare_amount']\n",
    "\n",
    "# Creating subplots\n",
    "fig, axs = plt.subplots(1, 2, figsize=(10, 4))\n",
    "\n",
    "# Plotting QQ plot for fare amount of Card payment type\n",
    "stats.probplot(fare_card, dist=\"norm\", plot = axs[0])\n",
    "axs[0].set_title('QQ-Plot : Card Payment')\n",
    "\n",
    "# Plotting QQ plot for fare amount of Cash payment type\n",
    "stats.probplot(fare_cash, dist=\"norm\", plot = axs[1])\n",
    "axs[1].set_title('QQ-Plot : Cash Payment')\n",
    "\n",
    "plt.tight_layout()\n",
    "plt.show()"
   ]
  },
  {
   "cell_type": "markdown",
   "id": "6034a7ac",
   "metadata": {},
   "source": [
    "**From the diagrams of Fare Amount for both cash and card payment, we clearly see the amount is not normally distributed, especially in the tails. This means high amount (outliers). To be linear, they must align with the red line and not deviate. This was also known from previous histogram, as it was right skewed and not normally distributed.\n",
    "Hence, Z-Test is not possible. We go for T-Test.(T-Test is suitable for not huge date, however is perfect when data is not normally distributed and std unknown.)**"
   ]
  },
  {
   "cell_type": "markdown",
   "id": "4e49ff99",
   "metadata": {},
   "source": [
    "# T-Test:"
   ]
  },
  {
   "cell_type": "code",
   "execution_count": 46,
   "id": "37c45045",
   "metadata": {},
   "outputs": [],
   "source": [
    "# Cash and Card Samples:\n",
    "Cash_sample = data[data['payment_type'] == 'Cash']['fare_amount']\n",
    "Card_sample = data[data['payment_type'] == 'Card']['fare_amount']"
   ]
  },
  {
   "cell_type": "code",
   "execution_count": 47,
   "id": "076df667",
   "metadata": {},
   "outputs": [
    {
     "name": "stdout",
     "output_type": "stream",
     "text": [
      "T-Statistics : 169.2111527245052  &  p-value : 0.0\n",
      "\n",
      " Reject Null Hypothesis!!!\n"
     ]
    }
   ],
   "source": [
    "# T-Stats\n",
    "t_stats, p_value = stats.ttest_ind( a = Card_sample, b = Cash_sample, equal_var = False )\n",
    "print ('T-Statistics :', t_stats, ' & ', 'p-value :', p_value)\n",
    "\n",
    "# Hyputhesis Rejection.\n",
    "if (p_value) > 0.05:\n",
    "    print ('\\n Accept Null Hypothesis!!!')\n",
    "else:\n",
    "    print ('\\n Reject Null Hypothesis!!!')"
   ]
  },
  {
   "cell_type": "markdown",
   "id": "98ec5f03",
   "metadata": {},
   "source": [
    "**Hence, T-Stat value and p-value (0.0) suggests we reject the Null_Hypothesis. \n",
    "In Fact, this states there is significant difference in the fare amount between the two payment methods.**"
   ]
  },
  {
   "cell_type": "markdown",
   "id": "d5b0dc0c",
   "metadata": {},
   "source": [
    "# Project Insights and Recommendations\n"
   ]
  },
  {
   "cell_type": "markdown",
   "id": "12790d6b",
   "metadata": {},
   "source": [
    "APPLIED METHOD - Descriptive Statistics, Hypothesis Testing (T-Test)\n",
    " \n",
    "INSIGHTS - Customers with card transactions have higgher fare amount and trip duration. Indicates customers prefer card for longer distance and higher fare amount.\n",
    "\n",
    "Total card transaction is 67.5% while cash transaction is 32.5%. Potentially due to security, convenience or incentives for card transactions.\n",
    "\n",
    "Among Card Payments - single passengers contribute 40% transaction which decreases as no. of passngers increase.\n",
    "Among Cash Payments - Single passengers contrbute 20% total transaction which also decrease as no. of passengeers increase.\n",
    "\n",
    "Hence, the insights indicate the need to consider both payment methods and passenger count indicated from customer behaviour and preferences. The Alternative Hypothesis indicates the difference between the two payment methods.\n"
   ]
  },
  {
   "cell_type": "markdown",
   "id": "9607ecde",
   "metadata": {},
   "source": [
    "**Recommendations:**\n",
    "\n",
    "Encourage customers to pay by card to generate more revenue.\n",
    "\n",
    "Offer incentives to choose this method of payment.\n",
    "\n",
    "Provide convenient and secure credit card payment options encouraging customers to adopt this method of payment.\n"
   ]
  },
  {
   "cell_type": "code",
   "execution_count": null,
   "id": "07927b7a",
   "metadata": {},
   "outputs": [],
   "source": []
  }
 ],
 "metadata": {
  "kernelspec": {
   "display_name": "Python 3 (ipykernel)",
   "language": "python",
   "name": "python3"
  },
  "language_info": {
   "codemirror_mode": {
    "name": "ipython",
    "version": 3
   },
   "file_extension": ".py",
   "mimetype": "text/x-python",
   "name": "python",
   "nbconvert_exporter": "python",
   "pygments_lexer": "ipython3",
   "version": "3.11.4"
  }
 },
 "nbformat": 4,
 "nbformat_minor": 5
}
